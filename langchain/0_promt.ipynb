{
  "nbformat": 4,
  "nbformat_minor": 0,
  "metadata": {
    "colab": {
      "provenance": []
    },
    "kernelspec": {
      "name": "python3",
      "display_name": "Python 3"
    },
    "language_info": {
      "name": "python"
    }
  },
  "cells": [
    {
      "cell_type": "code",
      "execution_count": 1,
      "metadata": {
        "colab": {
          "base_uri": "https://localhost:8080/"
        },
        "id": "CIeMSycDtN_Q",
        "outputId": "8ceeacae-7f4f-4eec-ab26-26ce19c15fc6"
      },
      "outputs": [
        {
          "output_type": "stream",
          "name": "stdout",
          "text": [
            "\u001b[2K   \u001b[90m━━━━━━━━━━━━━━━━━━━━━━━━━━━━━━━━━━━━━━━━\u001b[0m \u001b[32m2.4/2.4 MB\u001b[0m \u001b[31m27.4 MB/s\u001b[0m eta \u001b[36m0:00:00\u001b[0m\n",
            "\u001b[2K   \u001b[90m━━━━━━━━━━━━━━━━━━━━━━━━━━━━━━━━━━━━━━━━\u001b[0m \u001b[32m49.5/49.5 kB\u001b[0m \u001b[31m3.6 MB/s\u001b[0m eta \u001b[36m0:00:00\u001b[0m\n",
            "\u001b[?25h"
          ]
        }
      ],
      "source": [
        "!pip install -Uq langchain-community"
      ]
    },
    {
      "cell_type": "markdown",
      "source": [
        "# PrompTemplate"
      ],
      "metadata": {
        "id": "z47dconytWoD"
      }
    },
    {
      "cell_type": "code",
      "source": [
        "from langchain_core.prompts import PromptTemplate"
      ],
      "metadata": {
        "id": "CL63yOfVtWaD"
      },
      "execution_count": 2,
      "outputs": []
    },
    {
      "cell_type": "code",
      "source": [
        "prompt_template = PromptTemplate.from_template(\n",
        "\"\"\"\n",
        "answer, {question} = ?\n",
        "\"\"\"\n",
        ")\n",
        "user_prompt = 'write a detailed analogy between mathematics and lighthouse'\n",
        "messages = prompt_template.format(question=user_prompt)"
      ],
      "metadata": {
        "id": "aZuuzF1ftd8R"
      },
      "execution_count": 3,
      "outputs": []
    },
    {
      "cell_type": "code",
      "source": [
        "messages"
      ],
      "metadata": {
        "colab": {
          "base_uri": "https://localhost:8080/",
          "height": 36
        },
        "id": "jzX7Nk0vtUU5",
        "outputId": "08c677ab-05b2-462e-8984-64c7ec3f8205"
      },
      "execution_count": 4,
      "outputs": [
        {
          "output_type": "execute_result",
          "data": {
            "text/plain": [
              "'\\nanswer, write a detailed analogy between mathematics and lighthouse = ?\\n'"
            ],
            "application/vnd.google.colaboratory.intrinsic+json": {
              "type": "string"
            }
          },
          "metadata": {},
          "execution_count": 4
        }
      ]
    },
    {
      "cell_type": "markdown",
      "source": [
        "# ChatPromptTemplate"
      ],
      "metadata": {
        "id": "U22eRyEEtsor"
      }
    },
    {
      "cell_type": "code",
      "source": [
        "from langchain_core.prompts import ChatPromptTemplate"
      ],
      "metadata": {
        "id": "vwMzZE4stqLV"
      },
      "execution_count": 5,
      "outputs": []
    },
    {
      "cell_type": "code",
      "source": [
        "messages = [\n",
        "    ('system', 'you are a helpfull AI bo, your name is {bot_name}.'),\n",
        "    ('user', 'Hi!'),\n",
        "    ('assistant', 'Hi! How can I help you today?'),\n",
        "    ('user', '{user_input}')\n",
        "]"
      ],
      "metadata": {
        "id": "zhut4mBctxFO"
      },
      "execution_count": 6,
      "outputs": []
    },
    {
      "cell_type": "code",
      "source": [
        "chat_template = ChatPromptTemplate.from_messages(messages)"
      ],
      "metadata": {
        "id": "JWQ6BA0xuQTB"
      },
      "execution_count": 7,
      "outputs": []
    },
    {
      "cell_type": "code",
      "source": [
        "chat_template.format_messages(\n",
        "    bot_name='MathBot',\n",
        "    user_input='write a detailed analogy between mathematics and lighthouse'\n",
        ")"
      ],
      "metadata": {
        "colab": {
          "base_uri": "https://localhost:8080/"
        },
        "id": "pGRC_rrsuS22",
        "outputId": "b9f16470-553e-46ae-e856-0da49b727664"
      },
      "execution_count": 8,
      "outputs": [
        {
          "output_type": "execute_result",
          "data": {
            "text/plain": [
              "[SystemMessage(content='you are a helpfull AI bo, your name is MathBot.', additional_kwargs={}, response_metadata={}),\n",
              " HumanMessage(content='Hi!', additional_kwargs={}, response_metadata={}),\n",
              " AIMessage(content='Hi! How can I help you today?', additional_kwargs={}, response_metadata={}),\n",
              " HumanMessage(content='write a detailed analogy between mathematics and lighthouse', additional_kwargs={}, response_metadata={})]"
            ]
          },
          "metadata": {},
          "execution_count": 8
        }
      ]
    },
    {
      "cell_type": "code",
      "source": [],
      "metadata": {
        "id": "nc5EeRldubkX"
      },
      "execution_count": null,
      "outputs": []
    }
  ]
}