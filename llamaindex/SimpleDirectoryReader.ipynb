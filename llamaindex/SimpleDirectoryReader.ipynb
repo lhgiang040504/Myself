{
  "cells": [
    {
      "cell_type": "code",
      "source": [
        "!pip install -Uq llama-index-readers-file"
      ],
      "metadata": {
        "colab": {
          "base_uri": "https://localhost:8080/"
        },
        "id": "Rq5GEc6hXf7F",
        "outputId": "6cf3a874-e844-4332-80a0-c4705594d338"
      },
      "id": "Rq5GEc6hXf7F",
      "execution_count": 13,
      "outputs": [
        {
          "output_type": "stream",
          "name": "stdout",
          "text": [
            "\u001b[?25l   \u001b[90m━━━━━━━━━━━━━━━━━━━━━━━━━━━━━━━━━━━━━━━━\u001b[0m \u001b[32m0.0/298.0 kB\u001b[0m \u001b[31m?\u001b[0m eta \u001b[36m-:--:--\u001b[0m\r\u001b[2K   \u001b[90m━━━━━━━━━━━━━━━━━━━━━━━━━━━━━━━━━━━━━━━━\u001b[0m \u001b[32m298.0/298.0 kB\u001b[0m \u001b[31m17.7 MB/s\u001b[0m eta \u001b[36m0:00:00\u001b[0m\n",
            "\u001b[?25h"
          ]
        }
      ]
    },
    {
      "cell_type": "code",
      "source": [
        "!pip install docx2txt"
      ],
      "metadata": {
        "colab": {
          "base_uri": "https://localhost:8080/"
        },
        "id": "SOzNvG37XoRQ",
        "outputId": "d0667f2c-0b17-4d73-e270-59eff88abf84"
      },
      "id": "SOzNvG37XoRQ",
      "execution_count": 21,
      "outputs": [
        {
          "output_type": "stream",
          "name": "stdout",
          "text": [
            "Collecting docx2txt\n",
            "  Downloading docx2txt-0.8.tar.gz (2.8 kB)\n",
            "  Preparing metadata (setup.py) ... \u001b[?25l\u001b[?25hdone\n",
            "Building wheels for collected packages: docx2txt\n",
            "  Building wheel for docx2txt (setup.py) ... \u001b[?25l\u001b[?25hdone\n",
            "  Created wheel for docx2txt: filename=docx2txt-0.8-py3-none-any.whl size=3960 sha256=d299057c266bdf8a4553a81b20103db944fa0a126a61974f0af90480ae275a7b\n",
            "  Stored in directory: /root/.cache/pip/wheels/22/58/cf/093d0a6c3ecfdfc5f6ddd5524043b88e59a9a199cb02352966\n",
            "Successfully built docx2txt\n",
            "Installing collected packages: docx2txt\n",
            "Successfully installed docx2txt-0.8\n"
          ]
        }
      ]
    },
    {
      "cell_type": "code",
      "source": [
        "from llama_index.core import SimpleDirectoryReader"
      ],
      "metadata": {
        "id": "ohT78CWZWqdx"
      },
      "id": "ohT78CWZWqdx",
      "execution_count": 22,
      "outputs": []
    },
    {
      "cell_type": "code",
      "execution_count": 23,
      "id": "82cba74c-40af-4c62-97f0-6e8a3af63795",
      "metadata": {
        "id": "82cba74c-40af-4c62-97f0-6e8a3af63795"
      },
      "outputs": [],
      "source": [
        "reader = SimpleDirectoryReader(input_dir=\"data\")"
      ]
    },
    {
      "cell_type": "code",
      "execution_count": 24,
      "id": "ee09c6bb-a129-4c0c-86d8-52198c6896ad",
      "metadata": {
        "id": "ee09c6bb-a129-4c0c-86d8-52198c6896ad"
      },
      "outputs": [],
      "source": [
        "documents = reader.load_data()"
      ]
    },
    {
      "cell_type": "code",
      "source": [
        "documents"
      ],
      "metadata": {
        "colab": {
          "base_uri": "https://localhost:8080/"
        },
        "id": "eq0EvvENZf-g",
        "outputId": "d9f6142e-c7fc-4b03-e587-fd222809ff9a"
      },
      "id": "eq0EvvENZf-g",
      "execution_count": 25,
      "outputs": [
        {
          "output_type": "execute_result",
          "data": {
            "text/plain": [
              "[Document(id_='0e5c5f91-8085-44ee-8456-3263a2617f22', embedding=None, metadata={'file_name': 'Alice Clark CV.docx', 'file_path': '/content/data/Alice Clark CV.docx', 'file_type': 'application/vnd.openxmlformats-officedocument.wordprocessingml.document', 'file_size': 15339, 'creation_date': '2024-12-04', 'last_modified_date': '2024-12-04'}, excluded_embed_metadata_keys=['file_name', 'file_type', 'file_size', 'creation_date', 'last_modified_date', 'last_accessed_date'], excluded_llm_metadata_keys=['file_name', 'file_type', 'file_size', 'creation_date', 'last_modified_date', 'last_accessed_date'], relationships={}, metadata_template='{key}: {value}', metadata_separator='\\n', text='Alice Clark\\n\\nAI / Machine Learning\\n\\n\\n\\nDelhi, India Email me on Indeed\\n\\n20+ years of experience in data handling, design, and development\\n\\nData Warehouse: Data analysis, star/snow flake scema data modelling and design specific to data warehousing and business intelligence\\n\\nDatabase: Experience in database designing, scalability, back-up and recovery, writing and\\n\\noptimizing SQL code and Stored Procedures, creating functions, views, triggers and indexes. Cloud platform: Worked on Microsoft Azure cloud services like Document DB, SQL Azure, Stream Analytics, Event hub, Power BI, Web Job, Web App, Power BI, Azure data lake analytics(U-SQL)\\n\\nWilling to relocate anywhere\\n\\n\\n\\nWORK EXPERIENCE\\n\\nSoftware Engineer\\n\\nMicrosoft – Bangalore, Karnataka\\n\\nJanuary 2000 to Present\\n\\n1. Microsoft Rewards Live dashboards:\\n\\nDescription: - Microsoft rewards is loyalty program that rewards Users for browsing and shopping\\n\\nonline. Microsoft Rewards members can earn points when searching with Bing, browsing with\\n\\nMicrosoft Edge and making purchases at the Xbox Store, the Windows Store and the Microsoft\\n\\nStore. Plus, user can pick up bonus points for taking daily quizzes and tours on the Microsoft\\n\\nrewards website. Rewards live dashboards gives a live picture of usage world-wide and by\\n\\nmarkets like US, Canada, Australia, new user registration count, top/bottom performing rewards\\n\\noffers, orders stats and weekly trends of user activities, orders and new user registrations. the\\n\\nPBI tiles gets refreshed in different frequencies starting from 5 seconds to 30 minutes.\\n\\nTechnology/Tools used\\n\\n\\n\\nEDUCATION\\n\\nIndian Institute of Technology – Mumbai\\n\\n2001\\n\\n\\n\\nSKILLS\\n\\nMachine Learning, Natural Language Processing, and Big Data Handling\\n\\n\\n\\nADDITIONAL INFORMATION\\n\\nProfessional Skills\\n\\n• Excellent analytical, problem solving, communication, knowledge transfer and interpersonal\\n\\nskills with ability to interact with individuals at all the levels\\n\\n• Quick learner and maintains cordial relationship with project manager and team members and\\n\\ngood performer both in team and independent job environments\\n\\n• Positive attitude towards superiors &amp; peers\\n\\n• Supervised junior developers throughout project lifecycle and provided technical assistance', mimetype='text/plain', start_char_idx=None, end_char_idx=None, metadata_seperator='\\n', text_template='{metadata_str}\\n\\n{content}'),\n",
              " Document(id_='af5592d1-a71a-470e-ad1d-0f877054e91d', embedding=None, metadata={'page_label': '1', 'file_name': 'Alice Clark CV.pdf', 'file_path': '/content/data/Alice Clark CV.pdf', 'file_type': 'application/pdf', 'file_size': 112428, 'creation_date': '2024-12-04', 'last_modified_date': '2024-12-04'}, excluded_embed_metadata_keys=['file_name', 'file_type', 'file_size', 'creation_date', 'last_modified_date', 'last_accessed_date'], excluded_llm_metadata_keys=['file_name', 'file_type', 'file_size', 'creation_date', 'last_modified_date', 'last_accessed_date'], relationships={}, metadata_template='{key}: {value}', metadata_separator='\\n', text='Alice Clark \\nAI / Machine Learning \\n \\nDelhi, India Email me on Indeed \\n• 20+ years of experience in data handling, design, and development \\n• Data Warehouse: Data analysis, star/snow flake scema data modelling and design specific to \\ndata warehousing and business intelligence \\n• Database: Experience in database designing, scalability, back-up and recovery, writing and \\noptimizing SQL code and Stored Procedures, creating functions, views, triggers and indexes. \\nCloud platform: Worked on Microsoft Azure cloud services like Document DB, SQL Azure, \\nStream Analytics, Event hub, Power BI, Web Job, Web App, Power BI, Azure data lake \\nanalytics(U-SQL) \\nWilling to relocate anywhere \\n \\nWORK EXPERIENCE \\nSoftware Engineer \\nMicrosoft – Bangalore, Karnataka \\nJanuary 2000 to Present \\n1. Microsoft Rewards Live dashboards: \\nDescription: - Microsoft rewards is loyalty program that rewards Users for browsing and shopping \\nonline. Microsoft Rewards members can earn points when searching with Bing, browsing with \\nMicrosoft Edge and making purchases at the Xbox Store, the Windows Store and the Microsoft \\nStore. Plus, user can pick up bonus points for taking daily quizzes and tours on the Microsoft \\nrewards website. Rewards live dashboards gives a live picture of usage world-wide and by \\nmarkets like US, Canada, Australia, new user registration count, top/bottom performing rewards \\noffers, orders stats and weekly trends of user activities, orders and new user registrations. the \\nPBI tiles gets refreshed in different frequencies starting from 5 seconds to 30 minutes. \\nTechnology/Tools used \\n \\nEDUCATION \\nIndian Institute of Technology – Mumbai \\n2001 \\n \\nSKILLS \\nMachine Learning, Natural Language Processing, and Big Data Handling \\n ', mimetype='text/plain', start_char_idx=None, end_char_idx=None, metadata_seperator='\\n', text_template='{metadata_str}\\n\\n{content}'),\n",
              " Document(id_='89d2760f-709a-4035-bfeb-211fd3b65be4', embedding=None, metadata={'page_label': '2', 'file_name': 'Alice Clark CV.pdf', 'file_path': '/content/data/Alice Clark CV.pdf', 'file_type': 'application/pdf', 'file_size': 112428, 'creation_date': '2024-12-04', 'last_modified_date': '2024-12-04'}, excluded_embed_metadata_keys=['file_name', 'file_type', 'file_size', 'creation_date', 'last_modified_date', 'last_accessed_date'], excluded_llm_metadata_keys=['file_name', 'file_type', 'file_size', 'creation_date', 'last_modified_date', 'last_accessed_date'], relationships={}, metadata_template='{key}: {value}', metadata_separator='\\n', text='ADDITIONAL INFORMATION \\nProfessional Skills \\n• Excellent analytical, problem solving, communication, knowledge transfer and interpersonal \\nskills with ability to interact with individuals at all the levels \\n• Quick learner and maintains cordial relationship with project manager and team members and \\ngood performer both in team and independent job environments \\n• Positive attitude towards superiors &amp; peers \\n• Supervised junior developers throughout project lifecycle and provided technical assistance ', mimetype='text/plain', start_char_idx=None, end_char_idx=None, metadata_seperator='\\n', text_template='{metadata_str}\\n\\n{content}'),\n",
              " Document(id_='432e0620-2504-4086-ac4b-d1201b60f9cd', embedding=None, metadata={'file_path': '/content/data/Alice Clark CV.txt', 'file_name': 'Alice Clark CV.txt', 'file_type': 'text/plain', 'file_size': 2269, 'creation_date': '2024-12-04', 'last_modified_date': '2024-12-04'}, excluded_embed_metadata_keys=['file_name', 'file_type', 'file_size', 'creation_date', 'last_modified_date', 'last_accessed_date'], excluded_llm_metadata_keys=['file_name', 'file_type', 'file_size', 'creation_date', 'last_modified_date', 'last_accessed_date'], relationships={}, metadata_template='{key}: {value}', metadata_separator='\\n', text='Alice Clark \\nAI / Machine Learning \\n \\nDelhi, India Email me on Indeed \\n• \\n20+ years of experience in data handling, design, and development \\n• \\nData Warehouse: Data analysis, star/snow flake scema data modelling and design specific to \\ndata warehousing and business intelligence \\n• \\nDatabase: Experience in database designing, scalability, back-up and recovery, writing and \\noptimizing SQL code and Stored Procedures, creating functions, views, triggers and indexes. \\nCloud platform: Worked on Microsoft Azure cloud services like Document DB, SQL Azure, \\nStream Analytics, Event hub, Power BI, Web Job, Web App, Power BI, Azure data lake \\nanalytics(U-SQL) \\nWilling to relocate anywhere \\n \\nWORK EXPERIENCE \\nSoftware Engineer \\nMicrosoft – Bangalore, Karnataka \\nJanuary 2000 to Present \\n1. Microsoft Rewards Live dashboards: \\nDescription: - Microsoft rewards is loyalty program that rewards Users for browsing and shopping \\nonline. Microsoft Rewards members can earn points when searching with Bing, browsing with \\nMicrosoft Edge and making purchases at the Xbox Store, the Windows Store and the Microsoft \\nStore. Plus, user can pick up bonus points for taking daily quizzes and tours on the Microsoft \\nrewards website. Rewards live dashboards gives a live picture of usage world-wide and by \\nmarkets like US, Canada, Australia, new user registration count, top/bottom performing rewards \\noffers, orders stats and weekly trends of user activities, orders and new user registrations. the \\nPBI tiles gets refreshed in different frequencies starting from 5 seconds to 30 minutes. \\nTechnology/Tools used \\n \\nEDUCATION \\nIndian Institute of Technology – Mumbai \\n2001 \\n \\nSKILLS \\nMachine Learning, Natural Language Processing, and Big Data Handling \\n \\n\\x0cADDITIONAL INFORMATION \\nProfessional Skills \\n• Excellent analytical, problem solving, communication, knowledge transfer and interpersonal \\nskills with ability to interact with individuals at all the levels \\n• Quick learner and maintains cordial relationship with project manager and team members and \\ngood performer both in team and independent job environments \\n• Positive attitude towards superiors &amp; peers \\n• Supervised junior developers throughout project lifecycle and provided technical assistance \\n\\x0c', mimetype='text/plain', start_char_idx=None, end_char_idx=None, metadata_seperator='\\n', text_template='{metadata_str}\\n\\n{content}'),\n",
              " Document(id_='eb920c84-c1a1-42c6-ae3c-d55b0778ffe2', embedding=None, metadata={'file_name': 'Smith Resume.docx', 'file_path': '/content/data/Smith Resume.docx', 'file_type': 'application/vnd.openxmlformats-officedocument.wordprocessingml.document', 'file_size': 18005, 'creation_date': '2024-12-04', 'last_modified_date': '2024-12-04'}, excluded_embed_metadata_keys=['file_name', 'file_type', 'file_size', 'creation_date', 'last_modified_date', 'last_accessed_date'], excluded_llm_metadata_keys=['file_name', 'file_type', 'file_size', 'creation_date', 'last_modified_date', 'last_accessed_date'], relationships={}, metadata_template='{key}: {value}', metadata_separator='\\n', text='Michael Smith\\n\\nBI / Big Data/ Azure\\n\\nManchester, UK- Email me on Indeed: indeed.com/r/falicent/140749dace5dc26f\\n\\n\\n\\n10+ years of Experience in Designing, Development, Administration, Analysis, Management inthe Business Intelligence Data warehousing, Client Server Technologies, Web-based Applications, cloud solutions and Databases.\\n\\nData warehouse: Data analysis, star/ snow flake schema data modeling and design specific todata warehousing and business intelligence environment.\\n\\nDatabase: Experience in database designing, scalability, back-up and recovery, writing andoptimizing SQL code and Stored Procedures, creating functions, views, triggers and indexes. \\n\\nCloud platform: Worked on Microsoft Azure cloud services like Document DB, SQL Azure, StreamAnalytics, Event hub, Power BI, Web Job, Web App, Power BI, Azure data lake analytics(U-SQL).\\n\\nBig Data: Worked Azure data lake store/analytics for big data processing and Azure data factoryto schedule U-SQL jobs. Designed and developed end to end big data solution for data insights. \\n\\n\\n\\nWilling to relocate: Anywhere\\n\\nWORK EXPERIENCESoftware Engineer\\n\\nMicrosoft - Manchester, UK.\\n\\nDecember 2015 to Present\\n\\n1. Microsoft Rewards Live dashboards:\\n\\nDescription: - Microsoft rewards is loyalty program that rewards Users for browsing and shopping online. Microsoft Rewards members can earn points when searching with Bing, browsing with Microsoft Edge and making purchases at the Xbox Store, the Windows Store and the Microsoft Store. Plus, user can pick up bonus points for taking daily quizzes and tours on the Microsoft rewards website. Rewards live dashboards gives a live picture of usage world-wide and by markets like US, Canada, Australia, new user registration count, top/bottom performing rewards offers, orders stats and weekly trends of user activities, orders and new user registrations. the PBI tiles gets refreshed in different frequencies starting from 5 seconds to 30 minutes.\\n\\nTechnology/Tools used\\n\\nEvent hub, stream analytics and Power BI.\\n\\nResponsibilities\\n\\nCreated stream analytics jobs to process event hub data\\n\\nCreated Power BI live dashboard to show live usage traffic, weekly trends, cards, charts to showtop/bottom 10 offers and usage metrics.\\n\\n2. Microsoft Rewards Data Insights:\\n\\nDescription: - Microsoft rewards is loyalty program that rewards Users for browsing and shopping online. Microsoft Rewards members can earn points when searching with Bing, browsing with Microsoft Edge and making purchases at the Xbox Store, the Windows Store and the Microsoft Store. Plus, user can pick up bonus points for taking daily quizzes and tours on the Microsoft rewards website. Rewards data insights is data analytics and reporting platform, processes 20 million users daily activities and redemption across different markets like US, Canada, Australia.\\n\\nTechnology/Tools used\\n\\nCosmos (Microsoft big-data platform), c#, X-flow job monitoring, Power BI.\\n\\nResponsibilities\\n\\nCreated big data scripts in cosmos\\n\\nC# data extractors, processors and reducers for data transformation\\n\\nPower BI dashboards\\n\\n3. End to end tracking Tool:\\n\\nDescription: - This is real-time Tracking tool to track different business transactions like order, order response, functional acknowledgement, invoice flowing inside ICOE. It gives flexibility to customers to track their transactions and appropriate error information in-case of any failure. Based on resource based access control the tool gives flexibility to end user to perform different actions like view transactions, search based on different filter criteria and view and download actual message payload. End to end tracking tool stitches all the business transaction like order to cash flow and connects different hops inside ICOE like gateway, routing server, Processing server. It also connects different systems like ICOE, partner end point and SAP.\\n\\nTechnology/Tools used\\n\\nAzure Document db, Azure web job and Web APP, RBAC, Angular JS.\\n\\nResponsibilities\\n\\nDocument dB stored procedures.\\n\\nWeb job to process event hub data and populate Document db• Web App API.\\n\\nStream analytics job to transform data\\n\\nPower BI reports\\n\\n4. Biztrack Tracking Tool:\\n\\nDescription: - This is real-time Tracking tool to track different business transactions like order, order response, functional acknowledgement, invoice flowing inside ICOE. It gives flexibility to customers to track their transactions and appropriate error information in-case of any failure. Based on resource based access control the tool gives flexibility to end user to perform different actions like view transactions, search based on different filter criteria and view and download actual message payload.\\n\\nTechnology/Tools used\\n\\nSQL server 2014, SSIS, .net API, Angular JS.\\n\\nResponsibilities\\n\\nETL solution to transform business transactions data stored in Biztalk tables.\\n\\nSQL azure tables, stored procedures, User defined functions.\\n\\nPerformance tuning.\\n\\nWeb API enhancements.\\n\\n\\n\\nEDUCATION\\n\\nThe University of Manchester - UK\\n\\n2007\\n\\n\\n\\nSKILLS\\n\\nproblem solving (Less than 1 year), project lifecycle (Less than 1 year), project manager (Less than 1 year), technical assistance. (Less than 1 year)\\n\\nADDITIONAL INFORMATION\\n\\nProfessional Skills\\n\\nExcellent analytical, problem solving, communication, knowledge transfer and interpersonalskills with ability to interact with individuals at all the levels\\n\\nQuick learner and maintains cordial relationship with project manager and team members andgood performer both in team and independent job environments\\n\\nPositive attitude towards superiors &amp; peers\\n\\nSupervised junior developers throughout project lifecycle and provided technical assistance.', mimetype='text/plain', start_char_idx=None, end_char_idx=None, metadata_seperator='\\n', text_template='{metadata_str}\\n\\n{content}'),\n",
              " Document(id_='3d42d2d4-7459-41f0-b851-769f28244931', embedding=None, metadata={'page_label': '1', 'file_name': 'Smith Resume.pdf', 'file_path': '/content/data/Smith Resume.pdf', 'file_type': 'application/pdf', 'file_size': 54903, 'creation_date': '2024-12-04', 'last_modified_date': '2024-12-04'}, excluded_embed_metadata_keys=['file_name', 'file_type', 'file_size', 'creation_date', 'last_modified_date', 'last_accessed_date'], excluded_llm_metadata_keys=['file_name', 'file_type', 'file_size', 'creation_date', 'last_modified_date', 'last_accessed_date'], relationships={}, metadata_template='{key}: {value}', metadata_separator='\\n', text='Michael Smith \\nBI / Big Data/ Azure \\nManchester, UK- Email me on Indeed: indeed.com/r/falicent/140749dace5dc26f \\n \\n10+ years of Experience in Designing, Development, Administration, Analysis, \\nManagement inthe Business Intelligence Da ta warehousing, Client Server \\nTechnologies, Web-based Applications, cloud solutions and Databases. \\nData warehouse: Data analysis, star/ snow flake schema data modeling and design \\nspecific todata warehousing and business intelligence environment. \\nDatabase: Experience in database designing, scalability, back -up and recovery, \\nwriting andoptimizing SQL code and Stored Procedures, creating functions, views, \\ntriggers and indexes.  \\nCloud platform: Worked on Microsoft Azure cloud services like Document DB, SQL \\nAzure, StreamAnalytics, Event hub, Power BI, Web Job, Web App, Power BI, Azure \\ndata lake analytics(U-SQL). \\nBig Data: Worked Azure data lake store/analytics for big data processing and Azure \\ndata factoryto schedule U-SQL jobs. Designed and developed end to end big data \\nsolution for data insights.  \\n \\nWilling to relocate: Anywhere \\nWORK EXPERIENCESoftware Engineer \\nMicrosoft - Manchester, UK. \\nDecember 2015 to Present \\n1. Microsoft Rewards Live dashboards: \\nDescription: - Microsoft rewards is loyalty program that rewards Users for \\nbrowsing and shopping online. Microsoft Rewards members can earn points when \\nsearching with Bing, browsing with Microsoft Edge and making purchases at the \\nXbox Store, the Windows St ore and the Microsoft Store. Plus, user can pick up \\nbonus points for taking daily quizzes and tours on the Microsoft rewards website. \\nRewards live dashboards gives a live picture of usage world -wide and by markets \\nlike US, Canada, Australia, new user regis tration count, top/bottom performing \\nrewards offers, orders stats and weekly trends of user activities, orders and new \\nuser registrations. the PBI tiles gets refreshed in different frequencies starting \\nfrom 5 seconds to 30 minutes. \\nTechnology/Tools used \\nEvent hub, stream analytics and Power BI. \\nResponsibilities \\nCreated stream analytics jobs to process event hub data \\nCreated Power BI live dashboard to show live usage traffic, weekly trends, cards, \\ncharts to showtop/bottom 10 offers and usage metrics. \\n2. Microsoft Rewards Data Insights: \\nDescription: - Microsoft rewards is loyalty program that rewards Users for \\nbrowsing and shopping online. Microsoft Rewards members can earn points when \\nsearching with Bing, browsing with Microsoft Edge and making purchases at t he \\nXbox Store, the Windows Store and the Microsoft Store. Plus, user can pick up \\nbonus points for taking daily quizzes and tours on the Microsoft rewards website. \\nRewards data insights is data analytics and reporting platform, processes 20 \\nmillion users daily activities and redemption across different markets like US, \\nCanada, Australia. \\nTechnology/Tools used \\nCosmos (Microsoft big-data platform), c#, X-flow job monitoring, Power BI. \\nResponsibilities ', mimetype='text/plain', start_char_idx=None, end_char_idx=None, metadata_seperator='\\n', text_template='{metadata_str}\\n\\n{content}'),\n",
              " Document(id_='a66b6efb-595e-475c-8c73-8940a75e3d6b', embedding=None, metadata={'page_label': '2', 'file_name': 'Smith Resume.pdf', 'file_path': '/content/data/Smith Resume.pdf', 'file_type': 'application/pdf', 'file_size': 54903, 'creation_date': '2024-12-04', 'last_modified_date': '2024-12-04'}, excluded_embed_metadata_keys=['file_name', 'file_type', 'file_size', 'creation_date', 'last_modified_date', 'last_accessed_date'], excluded_llm_metadata_keys=['file_name', 'file_type', 'file_size', 'creation_date', 'last_modified_date', 'last_accessed_date'], relationships={}, metadata_template='{key}: {value}', metadata_separator='\\n', text='Created big data scripts in cosmos \\nC# data extractors, processors and reducers for data transformation \\nPower BI dashboards \\n3. End to end tracking Tool: \\nDescription: - This is real -time Tracking tool to track different business \\ntransactions like order, order response, functional acknowledgement, invoice \\nflowing inside ICOE. It gives flexibility to customers to track their transactions \\nand appropriate error information in-case of any failure. Based on resource based \\naccess control the tool gives flexibility to end user to perform different actions \\nlike view transactions, search based on different filter criteria and view and \\ndownload actual message payload. End to end tracking tool stitches all the \\nbusiness transaction like order to cash flow and connects different hops inside \\nICOE like gateway, routing server, Processing server. It also connects different \\nsystems like ICOE, partner end point and SAP. \\nTechnology/Tools used \\nAzure Document db, Azure web job and Web APP, RBAC, Angular JS. \\nResponsibilities \\nDocument dB stored procedures. \\nWeb job to process event hub data and populate Document db• Web App API. \\nStream analytics job to transform data \\nPower BI reports \\n4. Biztrack Tracking Tool: \\nDescription: - This is real -time Tracking tool to track different business \\ntransactions like order, order response, functional acknowledgement, invoice \\nflowing inside ICOE. It gives flexibility to customers to track their transactions \\nand appropriate error information in-case of any failure. Based on resource based \\naccess control the tool gives flexibility to end user to perform different actions \\nlike view transactions, search based on different filter criteria and view and \\ndownload actual message payload. \\nTechnology/Tools used \\nSQL server 2014, SSIS, .net API, Angular JS. \\nResponsibilities \\nETL solution to transform business transactions data stored in Biztalk tables. \\nSQL azure tables, stored procedures, User defined functions. \\nPerformance tuning. \\nWeb API enhancements. \\n \\nEDUCATION \\nThe University of Manchester - UK \\n2007 \\n \\nSKILLS \\nproblem solving (Less than 1 year), project lifecycle (Less than 1 year), project \\nmanager (Less than 1 year), technical assistance. (Less than 1 year) \\nADDITIONAL INFORMATION \\nProfessional Skills \\nExcellent analytical, problem solving, communication, knowledge transfer and \\ninterpersonalskills with ability to interact with individuals at all the levels \\nQuick learner and maintains cordial relationship with project manager and team \\nmembers andgood performer both in team and independent job environments \\nPositive attitude towards superiors &amp; peers ', mimetype='text/plain', start_char_idx=None, end_char_idx=None, metadata_seperator='\\n', text_template='{metadata_str}\\n\\n{content}'),\n",
              " Document(id_='f1587624-4df8-4ab8-a255-5127847bc607', embedding=None, metadata={'page_label': '3', 'file_name': 'Smith Resume.pdf', 'file_path': '/content/data/Smith Resume.pdf', 'file_type': 'application/pdf', 'file_size': 54903, 'creation_date': '2024-12-04', 'last_modified_date': '2024-12-04'}, excluded_embed_metadata_keys=['file_name', 'file_type', 'file_size', 'creation_date', 'last_modified_date', 'last_accessed_date'], excluded_llm_metadata_keys=['file_name', 'file_type', 'file_size', 'creation_date', 'last_modified_date', 'last_accessed_date'], relationships={}, metadata_template='{key}: {value}', metadata_separator='\\n', text='Supervised junior developers throughout project lifecycle and provided technical \\nassistance. ', mimetype='text/plain', start_char_idx=None, end_char_idx=None, metadata_seperator='\\n', text_template='{metadata_str}\\n\\n{content}')]"
            ]
          },
          "metadata": {},
          "execution_count": 25
        }
      ]
    }
  ],
  "metadata": {
    "kernelspec": {
      "display_name": "Python 3 (ipykernel)",
      "language": "python",
      "name": "python3"
    },
    "language_info": {
      "codemirror_mode": {
        "name": "ipython",
        "version": 3
      },
      "file_extension": ".py",
      "mimetype": "text/x-python",
      "name": "python",
      "nbconvert_exporter": "python",
      "pygments_lexer": "ipython3",
      "version": "3.11.7"
    },
    "colab": {
      "provenance": []
    }
  },
  "nbformat": 4,
  "nbformat_minor": 5
}