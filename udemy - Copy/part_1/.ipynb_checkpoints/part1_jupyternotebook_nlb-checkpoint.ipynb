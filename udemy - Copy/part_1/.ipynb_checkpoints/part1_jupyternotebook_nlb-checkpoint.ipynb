{
 "cells": [
  {
   "cell_type": "code",
   "execution_count": null,
   "id": "53b5c865",
   "metadata": {},
   "outputs": [],
   "source": [
    "#f-string literals\n",
    "#alignments"
   ]
  },
  {
   "cell_type": "code",
   "execution_count": 2,
   "id": "8c420c02",
   "metadata": {},
   "outputs": [],
   "source": [
    "person = \"Nam\""
   ]
  },
  {
   "cell_type": "code",
   "execution_count": 8,
   "id": "ae026ece",
   "metadata": {},
   "outputs": [
    {
     "name": "stdout",
     "output_type": "stream",
     "text": [
      " hello Nam\n"
     ]
    }
   ],
   "source": [
    "print(\" hello {}\".format(person))"
   ]
  },
  {
   "cell_type": "code",
   "execution_count": 12,
   "id": "efe21cc0",
   "metadata": {},
   "outputs": [
    {
     "name": "stdout",
     "output_type": "stream",
     "text": [
      " hello Nam\n"
     ]
    }
   ],
   "source": [
    "print(f\" hello {person}\")"
   ]
  },
  {
   "cell_type": "code",
   "execution_count": 26,
   "id": "785b85f6",
   "metadata": {
    "scrolled": true
   },
   "outputs": [
    {
     "name": "stdout",
     "output_type": "stream",
     "text": [
      "my number is 123\n"
     ]
    }
   ],
   "source": [
    "d = {\"a\":123, \"b\":456}\n",
    "print(f\"my number is {d['a']}\")"
   ]
  },
  {
   "cell_type": "raw",
   "id": "87057af5",
   "metadata": {},
   "source": [
    "library = [('Author', 'Topic', 'Pages'), ('Twain', 'Rafting in water alone', 601), ('Feynman', 'Physics', 95), ('Hamilton', 'Mythology', 144)]"
   ]
  },
  {
   "cell_type": "code",
   "execution_count": 66,
   "id": "ec3d5a61",
   "metadata": {},
   "outputs": [
    {
     "data": {
      "text/plain": [
       "[('Author', 'Topic', 'Pages'),\n",
       " ('Twain', 'Rafting in water alone', '601'),\n",
       " ('Feynman', 'Physics', 95),\n",
       " ('Hamilton', 'Mythology', 144)]"
      ]
     },
     "execution_count": 66,
     "metadata": {},
     "output_type": "execute_result"
    }
   ],
   "source": [
    "library = [('Author', 'Topic', 'Pages'), ('Twain', 'Rafting in water alone', 601), ('Feynman', 'Physics', 95), ('Hamilton', 'Mythology', 144)]\n",
    "library"
   ]
  },
  {
   "cell_type": "code",
   "execution_count": 73,
   "id": "32b0adf8",
   "metadata": {},
   "outputs": [
    {
     "name": "stdout",
     "output_type": "stream",
     "text": [
      "Author     Topic                               Pages\n",
      "Twain      Rafting in water alone                601\n",
      "Feynman    Physics                                95\n",
      "Hamilton   Mythology                             144\n"
     ]
    }
   ],
   "source": [
    "for author, topic, pages in library:\n",
    "    print(f\"{author:{10}} {topic:{30}} {pages:>{10}}\")"
   ]
  },
  {
   "cell_type": "code",
   "execution_count": 83,
   "id": "d703fc82",
   "metadata": {},
   "outputs": [],
   "source": [
    "from datetime import datetime\n",
    "today = datetime(2023, 3, 11)\n",
    "# default: year , moth, day"
   ]
  },
  {
   "cell_type": "code",
   "execution_count": 95,
   "id": "6d85a0d5",
   "metadata": {},
   "outputs": [
    {
     "name": "stdout",
     "output_type": "stream",
     "text": [
      "11 Mar, 2023\n"
     ]
    }
   ],
   "source": [
    "print(f\"{today:%d %b, %Y}\")"
   ]
  },
  {
   "cell_type": "code",
   "execution_count": null,
   "id": "3905d3dc",
   "metadata": {},
   "outputs": [],
   "source": []
  }
 ],
 "metadata": {
  "kernelspec": {
   "display_name": "Python 3 (ipykernel)",
   "language": "python",
   "name": "python3"
  },
  "language_info": {
   "codemirror_mode": {
    "name": "ipython",
    "version": 3
   },
   "file_extension": ".py",
   "mimetype": "text/x-python",
   "name": "python",
   "nbconvert_exporter": "python",
   "pygments_lexer": "ipython3",
   "version": "3.7.16"
  }
 },
 "nbformat": 4,
 "nbformat_minor": 5
}
