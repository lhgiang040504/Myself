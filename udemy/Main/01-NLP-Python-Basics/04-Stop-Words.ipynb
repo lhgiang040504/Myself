{
 "cells": [
  {
   "cell_type": "markdown",
   "metadata": {},
   "source": [
    "___\n",
    "\n",
    "<a href='http://www.pieriandata.com'> <img src='../Pierian_Data_Logo.png' /></a>\n",
    "___"
   ]
  },
  {
   "cell_type": "markdown",
   "metadata": {},
   "source": [
    "# Stop Words\n",
    "Words like \"a\" and \"the\" appear so frequently that they don't require tagging as thoroughly as nouns, verbs and modifiers. We call these *stop words*, and they can be filtered from the text to be processed. spaCy holds a built-in list of some 305 English stop words."
   ]
  },
  {
   "cell_type": "code",
   "execution_count": 1,
   "metadata": {},
   "outputs": [],
   "source": [
    "# Perform standard imports:\n",
    "import spacy\n",
    "nlp = spacy.load('en_core_web_sm')"
   ]
  },
  {
   "cell_type": "code",
   "execution_count": 8,
   "metadata": {},
   "outputs": [
    {
     "name": "stdout",
     "output_type": "stream",
     "text": [
      "{'might', 'own', 'twenty', 'seem', 'bottom', 'always', 'almost', 'herein', 'how', 'somewhere', 'across', 'would', \"'d\", 'forty', 'hereupon', 'then', 'twelve', 'behind', 'whereupon', 'hundred', \"n't\", 'over', 'nobody', 'is', 'am', 'nowhere', 'empty', 'quite', 'hereafter', 'eleven', 'to', 'without', 'has', 'eight', 'call', 'with', 'amongst', 'another', 'hereby', 'former', 'will', 'whereby', 'yourselves', 'were', 'did', 'six', 'never', 'beyond', 'fifteen', 'thereafter', 'really', \"'ll\", 'all', 'amount', 'though', 'various', 'we', 'so', 'first', '‘ll', 'everywhere', 'part', 'due', 'n’t', 'be', 'other', 'everything', 'had', 'during', 'hence', 'anyway', 'something', 'third', 'become', 'not', 'make', 'beforehand', 'whenever', 'sixty', 'became', 'whence', 'well', 'they', \"'s\", 'until', 'must', 'was', 'her', 'enough', \"'re\", 'yourself', 'after', 'everyone', '‘ve', 'back', 'mine', 'perhaps', 'either', 'thru', 'beside', 'often', 'seems', 'last', 'around', 'their', 'at', 'nine', 'others', 'nevertheless', 'rather', 'whose', 'again', 'them', 'within', 'ours', 'while', 'before', 'just', 'too', 'thus', 'through', 'somehow', 'together', 'these', 'us', 'elsewhere', 'yours', \"'m\", '’re', 'meanwhile', 'what', 'ten', 'namely', 'or', 'still', 'any', 'if', 'alone', 'less', 'ourselves', 'take', 'my', 'above', 'against', 'anyone', 'do', 'two', '’d', '’ll', 'of', 'fifty', 'me', 'noone', 'ca', 'where', 'name', 'have', 'cannot', 'whom', 'put', 'itself', '‘m', 'anything', \"'ve\", 'sometimes', 'every', 'been', 'thence', 'its', '‘s', 'via', 'move', 'from', 'latterly', 'no', 'get', 'serious', 'more', 'moreover', 'myself', 'an', 'because', 'each', 'onto', 'becomes', 'but', 'using', 'least', 'i', 'see', 'toward', 'are', 'below', 'down', 'could', 'may', 'formerly', 'for', 'as', 'whereafter', 'since', 're', 'front', 'mostly', 'should', 'both', 'can', 'themselves', 'into', '’s', 'regarding', '’ve', 'also', 'herself', 'does', 'made', 'towards', 'out', 'such', 'whoever', 'many', 'about', 'than', 'several', 'afterwards', 'keep', 'very', 'thereupon', 'whereas', 'on', 'that', '‘d', 'there', 'otherwise', 'why', 'seeming', 'him', 'throughout', 'hers', 'someone', 'up', 'among', 'ever', 'five', 'only', 'already', 'thereby', 'his', 'by', 'next', 'n‘t', 'few', 'indeed', 'wherever', 'you', 'used', 'anywhere', 'becoming', 'therein', 'except', 'yet', 'per', 'much', 'nothing', 'neither', 'unless', 'now', 'however', 'our', 'anyhow', 'whether', 'four', 'latter', 'even', 'further', 'between', 'under', 'same', 'your', 'sometime', 'three', 'side', 'himself', 'she', 'a', '‘re', 'please', 'wherein', 'and', 'it', 'whole', 'nor', 'most', 'besides', 'done', 'although', '’m', 'whatever', 'some', 'off', 'once', 'when', 'therefore', 'upon', 'along', 'one', 'top', 'in', 'none', 'whither', 'give', 'say', 'go', 'else', 'those', 'doing', 'seemed', 'this', 'being', 'here', 'he', 'which', 'show', 'the', 'who', 'full'}\n"
     ]
    }
   ],
   "source": [
    "# Print the set of spaCy's default stop words (remember that sets are unordered):\n",
    "print(nlp.Defaults.stop_words)"
   ]
  },
  {
   "cell_type": "code",
   "execution_count": 9,
   "metadata": {},
   "outputs": [
    {
     "data": {
      "text/plain": [
       "326"
      ]
     },
     "execution_count": 9,
     "metadata": {},
     "output_type": "execute_result"
    }
   ],
   "source": [
    "len(nlp.Defaults.stop_words)"
   ]
  },
  {
   "cell_type": "markdown",
   "metadata": {},
   "source": [
    "## To see if a word is a stop word"
   ]
  },
  {
   "cell_type": "code",
   "execution_count": 10,
   "metadata": {},
   "outputs": [
    {
     "data": {
      "text/plain": [
       "True"
      ]
     },
     "execution_count": 10,
     "metadata": {},
     "output_type": "execute_result"
    }
   ],
   "source": [
    "nlp.vocab['myself'].is_stop"
   ]
  },
  {
   "cell_type": "code",
   "execution_count": 11,
   "metadata": {},
   "outputs": [
    {
     "data": {
      "text/plain": [
       "False"
      ]
     },
     "execution_count": 11,
     "metadata": {},
     "output_type": "execute_result"
    }
   ],
   "source": [
    "nlp.vocab['mystery'].is_stop"
   ]
  },
  {
   "cell_type": "markdown",
   "metadata": {},
   "source": [
    "## To add a stop word\n",
    "There may be times when you wish to add a stop word to the default set. Perhaps you decide that `'btw'` (common shorthand for \"by the way\") should be considered a stop word."
   ]
  },
  {
   "cell_type": "code",
   "execution_count": 24,
   "metadata": {},
   "outputs": [],
   "source": [
    "# Add the word to the set of stop words. Use lowercase!\n",
    "nlp.Defaults.stop_words.add('Btw')\n",
    "\n",
    "# Set the stop_word tag on the lexeme\n",
    "nlp.vocab['Btw'].is_stop = True"
   ]
  },
  {
   "cell_type": "code",
   "execution_count": 25,
   "metadata": {},
   "outputs": [
    {
     "data": {
      "text/plain": [
       "327"
      ]
     },
     "execution_count": 25,
     "metadata": {},
     "output_type": "execute_result"
    }
   ],
   "source": [
    "len(nlp.Defaults.stop_words)"
   ]
  },
  {
   "cell_type": "code",
   "execution_count": 26,
   "metadata": {},
   "outputs": [
    {
     "data": {
      "text/plain": [
       "False"
      ]
     },
     "execution_count": 26,
     "metadata": {},
     "output_type": "execute_result"
    }
   ],
   "source": [
    "nlp.vocab['btw'].is_stop"
   ]
  },
  {
   "cell_type": "markdown",
   "metadata": {},
   "source": [
    "<font color=green>When adding stop words, always use lowercase. Lexemes are converted to lowercase before being added to **vocab**.</font>"
   ]
  },
  {
   "cell_type": "markdown",
   "metadata": {},
   "source": [
    "## To remove a stop word\n",
    "Alternatively, you may decide that `'beyond'` should not be considered a stop word."
   ]
  },
  {
   "cell_type": "code",
   "execution_count": 27,
   "metadata": {},
   "outputs": [],
   "source": [
    "# Remove the word from the set of stop words\n",
    "nlp.Defaults.stop_words.remove('Btw')\n",
    "\n",
    "# Remove the stop_word tag from the lexeme\n",
    "nlp.vocab['Btw'].is_stop = False"
   ]
  },
  {
   "cell_type": "code",
   "execution_count": 28,
   "metadata": {},
   "outputs": [
    {
     "data": {
      "text/plain": [
       "326"
      ]
     },
     "execution_count": 28,
     "metadata": {},
     "output_type": "execute_result"
    }
   ],
   "source": [
    "len(nlp.Defaults.stop_words)"
   ]
  },
  {
   "cell_type": "code",
   "execution_count": 30,
   "metadata": {},
   "outputs": [
    {
     "data": {
      "text/plain": [
       "False"
      ]
     },
     "execution_count": 30,
     "metadata": {},
     "output_type": "execute_result"
    }
   ],
   "source": [
    "nlp.vocab['btw'].is_stop"
   ]
  },
  {
   "cell_type": "markdown",
   "metadata": {},
   "source": [
    "Great! Now you should be able to access spaCy's default set of stop words, and add or remove stop words as needed.\n",
    "## Next up: Vocabulary and Matching"
   ]
  }
 ],
 "metadata": {
  "kernelspec": {
   "display_name": "Python 3 (ipykernel)",
   "language": "python",
   "name": "python3"
  },
  "language_info": {
   "codemirror_mode": {
    "name": "ipython",
    "version": 3
   },
   "file_extension": ".py",
   "mimetype": "text/x-python",
   "name": "python",
   "nbconvert_exporter": "python",
   "pygments_lexer": "ipython3",
   "version": "3.9.13"
  }
 },
 "nbformat": 4,
 "nbformat_minor": 2
}
